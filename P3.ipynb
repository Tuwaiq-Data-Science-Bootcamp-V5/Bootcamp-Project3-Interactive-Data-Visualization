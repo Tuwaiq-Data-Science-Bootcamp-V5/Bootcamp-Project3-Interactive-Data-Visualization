{
 "cells": [
  {
   "cell_type": "code",
   "execution_count": null,
   "id": "702ed018-1024-4090-96d3-f8b040c37140",
   "metadata": {
    "tags": []
   },
   "outputs": [],
   "source": [
    "import pandas as pd\n",
    "import numpy as np\n",
    "import seaborn as sns\n",
    "import plotly.express as px\n",
    "\n",
    "import warnings\n",
    "warnings.filterwarnings(\"ignore\")"
   ]
  },
  {
   "cell_type": "code",
   "execution_count": null,
   "id": "dec03a33-3bdb-40ba-a01a-46276895f29c",
   "metadata": {
    "tags": []
   },
   "outputs": [],
   "source": [
    "aqar = pd.read_csv('RiyadhVillasAqar.csv')\n",
    "aqar"
   ]
  },
  {
   "cell_type": "markdown",
   "id": "7a3dea7e-2589-4ff1-965b-31b5927d5069",
   "metadata": {},
   "source": [
    "# Investigation and 1st cleaning  "
   ]
  },
  {
   "cell_type": "code",
   "execution_count": null,
   "id": "30ada555-45d9-4168-afe1-c54fe9ddfb0c",
   "metadata": {
    "tags": []
   },
   "outputs": [],
   "source": [
    "aqar.drop(columns = 'Unnamed: 0', inplace=True)\n",
    "aqar"
   ]
  },
  {
   "cell_type": "code",
   "execution_count": null,
   "id": "f8dbfc67-9ee6-4d69-a4b8-3a5d72884cc9",
   "metadata": {
    "tags": []
   },
   "outputs": [],
   "source": [
    "aqar.describe()"
   ]
  },
  {
   "cell_type": "markdown",
   "id": "05a2fbb5-3a46-406d-96a0-486a4ea8c520",
   "metadata": {},
   "source": [
    "## data seems fine other than 'square price' having min with 3.4 riyals!"
   ]
  },
  {
   "cell_type": "code",
   "execution_count": null,
   "id": "de400acc-e68d-4609-98cf-c208e34d290b",
   "metadata": {
    "tags": []
   },
   "outputs": [],
   "source": [
    "aqar.describe(include='object')"
   ]
  },
  {
   "cell_type": "markdown",
   "id": "e4746e0b-62ed-47fe-b34d-8507d78da342",
   "metadata": {},
   "source": [
    "## there are 295 neighbourhood included in this dataset, i would change the type of 'bathrooms' to be numric categories "
   ]
  },
  {
   "cell_type": "code",
   "execution_count": null,
   "id": "d008aa7e-07f2-4cac-a3a8-d24aa2480d29",
   "metadata": {
    "tags": []
   },
   "outputs": [],
   "source": [
    "aqar.info()"
   ]
  },
  {
   "cell_type": "code",
   "execution_count": null,
   "id": "51a5853f-7b5f-4cf1-b613-8e15b69f3cbf",
   "metadata": {
    "tags": []
   },
   "outputs": [],
   "source": [
    "aqar['neighbourhood'].value_counts()[:10]"
   ]
  },
  {
   "cell_type": "code",
   "execution_count": null,
   "id": "53ec08f0-860d-4aca-a862-ed40f6098c19",
   "metadata": {
    "tags": []
   },
   "outputs": [],
   "source": [
    "replace = lambda x: ' '.join(' '.join([c if (len(c)>1 and c !=' ' ) else '' for c in str(x).split()]).split())\n",
    "aqar['neighbourhood']= aqar['neighbourhood'].apply(replace)\n",
    "\n",
    "rename = lambda x: x if len(x) > 2 else 'unknown' \n",
    "aqar['neighbourhood']= aqar['neighbourhood'].apply(rename)\n",
    "aqar['neighbourhood'].unique()"
   ]
  },
  {
   "cell_type": "code",
   "execution_count": null,
   "id": "202567f1-815a-4f44-8286-e2864d168661",
   "metadata": {
    "tags": []
   },
   "outputs": [],
   "source": [
    "len(aqar['neighbourhood'].unique())"
   ]
  },
  {
   "cell_type": "code",
   "execution_count": null,
   "id": "6c2cf715-6ff5-496d-9b7e-14cafe545015",
   "metadata": {
    "tags": []
   },
   "outputs": [],
   "source": [
    "hood = {'طويق': 'Tuwik', 'الرمال': 'Ar Rimal', 'عكاظ': 'Okaz', 'النرجس': 'An Narjis',\n",
    "        'بدر': 'Bader', 'العارض': 'Al Aarid', 'المونسية': 'Almunsiyah', 'الملقا': 'Al Malqa', \n",
    "        'المهدية': 'Al Mahdiyah', 'الحزم': 'Al Hazm'}\n",
    "\n",
    "aqar['neighbourhood'].replace(hood, inplace =True)"
   ]
  },
  {
   "cell_type": "code",
   "execution_count": null,
   "id": "2ba8f71e-ed18-4df9-a162-0cd3c5bd902f",
   "metadata": {
    "tags": []
   },
   "outputs": [],
   "source": [
    "aqar['neighbourhood'].value_counts()[:10]"
   ]
  },
  {
   "cell_type": "code",
   "execution_count": null,
   "id": "4f2c0eee-6ffe-4baa-8e33-6ab9726b7137",
   "metadata": {
    "tags": []
   },
   "outputs": [],
   "source": [
    "aqar"
   ]
  },
  {
   "cell_type": "code",
   "execution_count": null,
   "id": "8713ac05-ff69-41fb-807d-6abfa2a3345b",
   "metadata": {
    "tags": []
   },
   "outputs": [],
   "source": [
    "aqar['bathrooms'].replace(r'\\D','', regex=True , inplace =True)\n",
    "aqar['bathrooms'].value_counts()"
   ]
  },
  {
   "cell_type": "code",
   "execution_count": null,
   "id": "931c38ef-cc44-4d1b-a2f6-f9a905f06c15",
   "metadata": {
    "tags": []
   },
   "outputs": [],
   "source": [
    "front={'شمالية': 'N','شرقية': 'E','جنوبية': 'S','غربية': 'W',\n",
    "       'شمالية شرقية': 'NE','جنوبية غربية': 'SW','جنوبية شرقية': 'SE',\n",
    "       'شمالية غربية': 'NE', 'ثلاث شوارع': '3S','أربع شوارع': '4S',}\n",
    "aqar['front'].replace(front,inplace=True)\n",
    "aqar['front'].value_counts()"
   ]
  },
  {
   "cell_type": "code",
   "execution_count": null,
   "id": "0e4cd975-54d5-40d6-a33e-1194ceafdf8d",
   "metadata": {
    "tags": []
   },
   "outputs": [],
   "source": [
    "loc_name = {'غرب الرياض': 'W', 'جنوب الرياض': 'S', 'شرق الرياض': 'E', 'شمال الرياض': 'N'}\n",
    "aqar['location'].replace(loc_name, inplace =True)\n",
    "aqar['location'].value_counts()"
   ]
  },
  {
   "cell_type": "code",
   "execution_count": null,
   "id": "ede1cbc3-9fe2-420b-a32f-7a3d947ac55a",
   "metadata": {
    "tags": []
   },
   "outputs": [],
   "source": [
    "aqar['lounges'].value_counts()"
   ]
  },
  {
   "cell_type": "code",
   "execution_count": null,
   "id": "81d641f4-c374-4bdf-9fa5-0ca8a4790daa",
   "metadata": {
    "tags": []
   },
   "outputs": [],
   "source": [
    "string = ['+', '0', '.']\n",
    "for i in string:\n",
    "    aqar['lounges'] = aqar['lounges'].str.replace(i,'')\n",
    "\n",
    "aqar['lounges'].value_counts()"
   ]
  },
  {
   "cell_type": "code",
   "execution_count": null,
   "id": "e16e6df0-35ca-42be-b994-02105beb8351",
   "metadata": {
    "tags": []
   },
   "outputs": [],
   "source": [
    "print(len(aqar['apartments'].value_counts().index.unique()))\n",
    "aqar['apartments'].value_counts().index.unique() "
   ]
  },
  {
   "cell_type": "code",
   "execution_count": null,
   "id": "b53e5d46-e262-42fe-8e96-11115d62bf4a",
   "metadata": {
    "tags": []
   },
   "outputs": [],
   "source": [
    "aqar['apartments'] = aqar['apartments'].astype(\"string\")\n",
    "print(len(aqar['apartments'].value_counts().index.unique()))\n",
    "aqar['apartments'].value_counts().index.unique()"
   ]
  },
  {
   "cell_type": "code",
   "execution_count": null,
   "id": "4c89d7aa-2d26-4392-9e7b-f9a8ca46e351",
   "metadata": {
    "tags": []
   },
   "outputs": [],
   "source": [
    "for i in string:\n",
    "    aqar['apartments'] = aqar['apartments'].str.replace('+','')\n",
    "\n",
    "print(aqar['apartments'].value_counts().count())\n",
    "aqar['apartments'].value_counts()"
   ]
  },
  {
   "cell_type": "code",
   "execution_count": null,
   "id": "bbba6fb3-6cf9-4494-ba59-2ebbb488d27a",
   "metadata": {
    "tags": []
   },
   "outputs": [],
   "source": [
    "def apartments(x):\n",
    "    if '.' in x and x != '0.0':\n",
    "        x = x.replace('0','')\n",
    "        x = x.replace('.','')\n",
    "        return x\n",
    "    elif x == '0.0':\n",
    "        return '0'\n",
    "    else:\n",
    "        return x\n",
    "    \n",
    "    \n",
    "aqar['apartments'] = aqar['apartments'].apply(apartments)\n",
    "print(aqar['apartments'].value_counts().count())\n",
    "print(aqar['apartments'].value_counts().index.unique())"
   ]
  },
  {
   "cell_type": "markdown",
   "id": "53da0b12-21f0-4f4d-8c80-a4f0297425c0",
   "metadata": {},
   "source": [
    "# Outliers "
   ]
  },
  {
   "cell_type": "code",
   "execution_count": null,
   "id": "8981b9d2-12a3-42c5-8024-355ed1c46882",
   "metadata": {
    "tags": []
   },
   "outputs": [],
   "source": [
    "sns.pairplot(aqar[['price', 'square price']])"
   ]
  },
  {
   "cell_type": "code",
   "execution_count": null,
   "id": "2f332ea8-d611-46c8-9871-bd8c08d5c3a3",
   "metadata": {
    "tags": []
   },
   "outputs": [],
   "source": [
    "sns.boxplot(aqar[['price', 'square price']])"
   ]
  },
  {
   "cell_type": "code",
   "execution_count": null,
   "id": "e88caaf9-3c0f-4521-8965-cc0c2c1c1fc9",
   "metadata": {
    "tags": []
   },
   "outputs": [],
   "source": [
    "def limits(col):\n",
    "    Q1 = col.quantile(0.25)\n",
    "    Q3 = col.quantile(0.75)\n",
    "    IQR = Q3 - Q1\n",
    "\n",
    "    upper = Q3 + 1.5*IQR\n",
    "    lower = Q1 - 1.5*IQR\n",
    "\n",
    "    print(\"Upper Bound:\",upper)   \n",
    "    print(\"Lower Bound:\",lower)\n",
    "    return upper, lower\n",
    "    \n",
    "\n",
    "print(\"price\")\n",
    "priceupper, pricelower = limits(aqar['price'])\n",
    "print(\"--------------------\")\n",
    "print(\"square price\")\n",
    "squareupper, squarelower = limits(aqar['square price'])"
   ]
  },
  {
   "cell_type": "code",
   "execution_count": null,
   "id": "0679dff0-ba62-4f7c-9804-472c7179009d",
   "metadata": {
    "tags": []
   },
   "outputs": [],
   "source": [
    "#droping the outliers the \n",
    "outliers = aqar[(aqar['price'] < pricelower) | (aqar['price'] > priceupper)]\n",
    "aqar = aqar.drop(outliers.index)\n",
    "\n",
    "outliers = aqar[(aqar['square price'] < squarelower) | (aqar['square price'] > squareupper)]\n",
    "aqar = aqar.drop(outliers.index)"
   ]
  },
  {
   "cell_type": "code",
   "execution_count": null,
   "id": "c19593e9-d564-4c57-8802-9c246ba9265f",
   "metadata": {
    "tags": []
   },
   "outputs": [],
   "source": [
    "sns.pairplot(aqar[['price', 'square price']])"
   ]
  },
  {
   "cell_type": "code",
   "execution_count": null,
   "id": "2af0e7eb-484d-4280-986e-4f2456a89adb",
   "metadata": {
    "tags": []
   },
   "outputs": [],
   "source": [
    "sns.boxplot(aqar[['price', 'square price']])"
   ]
  },
  {
   "cell_type": "markdown",
   "id": "75741431-fbe3-464d-bd82-0a436651ab1b",
   "metadata": {},
   "source": [
    "# Feature Engineering "
   ]
  },
  {
   "cell_type": "code",
   "execution_count": null,
   "id": "84e6e45e-1b00-4fa2-a370-1bead43629c6",
   "metadata": {
    "tags": []
   },
   "outputs": [],
   "source": [
    "aqar['Area m2'] = aqar['price'] / aqar['square price']\n",
    "aqar"
   ]
  },
  {
   "cell_type": "code",
   "execution_count": null,
   "id": "c198195d-5292-4d6f-ad7c-b4888f62d4f8",
   "metadata": {
    "tags": []
   },
   "outputs": [],
   "source": [
    "aqar.describe()"
   ]
  },
  {
   "cell_type": "code",
   "execution_count": null,
   "id": "9b1a9589-bf5a-4703-b614-a41d331b7f5a",
   "metadata": {
    "tags": []
   },
   "outputs": [],
   "source": [
    "aqar"
   ]
  },
  {
   "cell_type": "code",
   "execution_count": null,
   "id": "8b28d64a-8046-4c03-821c-319de780c096",
   "metadata": {
    "tags": []
   },
   "outputs": [],
   "source": [
    "np.linspace(50, 4500, 4)"
   ]
  },
  {
   "cell_type": "code",
   "execution_count": null,
   "id": "8c9c48f8-398c-412b-9bfd-38b06ee906fb",
   "metadata": {
    "tags": []
   },
   "outputs": [],
   "source": [
    "def AreaGroup(x):\n",
    "    if x >= 50 and x <= 400:\n",
    "        return 'Normal'\n",
    "    elif x > 400 and x <= 1533:\n",
    "        return 'Large'\n",
    "    elif x > 1533 and x <= 3016:\n",
    "        return 'Huge'\n",
    "    elif x > 3016:\n",
    "        return 'Vast'\n",
    "    \n",
    "aqar['Area Rank'] = aqar['Area m2'].apply(AreaGroup)\n",
    "aqar"
   ]
  },
  {
   "cell_type": "markdown",
   "id": "9cdc7c86-3b3c-4d1b-9b8b-48f80322247e",
   "metadata": {},
   "source": [
    "# Missing data handeling "
   ]
  },
  {
   "cell_type": "code",
   "execution_count": null,
   "id": "907d2e96-c364-433c-9025-73b56d5c978b",
   "metadata": {
    "tags": []
   },
   "outputs": [],
   "source": [
    "aqar.isnull().sum()/len(aqar) *100"
   ]
  },
  {
   "cell_type": "code",
   "execution_count": null,
   "id": "d6711159-a8b0-4a47-80ad-f6adee033621",
   "metadata": {
    "tags": []
   },
   "outputs": [],
   "source": [
    "aqar.info()"
   ]
  },
  {
   "cell_type": "code",
   "execution_count": null,
   "id": "b31b9ab6-c7e1-456b-b4c9-e66855bb2e39",
   "metadata": {
    "tags": []
   },
   "outputs": [],
   "source": [
    "aqar['lounges'] = aqar['lounges'].astype('Int64')\n",
    "meanlist = aqar.groupby('Area Rank')['lounges'].mean()\n",
    "meanlist"
   ]
  },
  {
   "cell_type": "code",
   "execution_count": null,
   "id": "c459a67a-c97a-43a6-bb47-0052cdb4d520",
   "metadata": {
    "tags": []
   },
   "outputs": [],
   "source": [
    "def fun(x, y):\n",
    "    if pd.isnull(y):\n",
    "        for i in meanlist.index:\n",
    "            if i == x:\n",
    "                return meanlist[x]\n",
    "    else: \n",
    "        return y\n",
    "\n",
    "aqar['lounges'] = list(map(fun, aqar['Area Rank'], aqar['lounges']))\n",
    "\n",
    "aqar.isnull().sum()/len(aqar) *100"
   ]
  },
  {
   "cell_type": "code",
   "execution_count": null,
   "id": "b4d2b17d-d690-47f2-8ce7-7258f02137bf",
   "metadata": {
    "tags": []
   },
   "outputs": [],
   "source": [
    "aqar"
   ]
  },
  {
   "cell_type": "code",
   "execution_count": null,
   "id": "4f5ddab9-f48e-40ef-aa22-54571bfeae20",
   "metadata": {
    "tags": []
   },
   "outputs": [],
   "source": [
    "aqar['lounges'] = aqar['lounges'].astype('int64')\n",
    "aqar"
   ]
  },
  {
   "cell_type": "code",
   "execution_count": null,
   "id": "f854dd57-2698-48df-9cad-5880622d41c5",
   "metadata": {
    "tags": []
   },
   "outputs": [],
   "source": [
    "meanlist = aqar.groupby('neighbourhood')['streetWidth'].mean()\n",
    "meanlist"
   ]
  },
  {
   "cell_type": "code",
   "execution_count": null,
   "id": "3ac82694-459e-485c-8d24-a9e3679b476d",
   "metadata": {
    "tags": []
   },
   "outputs": [],
   "source": [
    "aqar['streetWidth'] = list(map(fun, aqar['neighbourhood'], aqar['streetWidth']))\n",
    "aqar.isnull().sum()/len(aqar) *100"
   ]
  },
  {
   "cell_type": "code",
   "execution_count": null,
   "id": "e8f53df1-10b6-4794-8671-462ef8a95a0e",
   "metadata": {
    "tags": []
   },
   "outputs": [],
   "source": [
    "meanlist = aqar.groupby('neighbourhood')['square price'].mean()\n",
    "aqar['square price'] = list(map(fun, aqar['neighbourhood'], aqar['square price']))\n",
    "aqar.isnull().sum()/len(aqar) *100"
   ]
  },
  {
   "cell_type": "code",
   "execution_count": null,
   "id": "60cb0d14-b8d7-4802-ac6a-9cefe6e37e9e",
   "metadata": {
    "tags": []
   },
   "outputs": [],
   "source": [
    "meanlist = aqar.groupby('neighbourhood')['price'].mean()\n",
    "aqar['price'] = list(map(fun, aqar['neighbourhood'], aqar['price']))\n",
    "aqar.isnull().sum()/len(aqar) *100"
   ]
  },
  {
   "cell_type": "code",
   "execution_count": null,
   "id": "4677d99b-1f13-4799-8be3-a0d0a6059031",
   "metadata": {
    "tags": []
   },
   "outputs": [],
   "source": [
    "aqar['Area m2'] = aqar['price'] / aqar['square price']\n",
    "aqar.isnull().sum()/len(aqar) *100"
   ]
  },
  {
   "cell_type": "code",
   "execution_count": null,
   "id": "6d3b1d80-16be-4a23-a37f-8275642a98af",
   "metadata": {
    "tags": []
   },
   "outputs": [],
   "source": [
    "def AreaGroup(x):\n",
    "    if x >= 50 and x <= 400:\n",
    "        return 'Normal'\n",
    "    elif x > 400 and x <= 1533:\n",
    "        return 'Large'\n",
    "    elif x > 1533 and x <= 3016:\n",
    "        return 'Huge'\n",
    "    elif x > 3016:\n",
    "        return 'Vast'\n",
    "    \n",
    "aqar['Area Rank'] = aqar['Area m2'].apply(AreaGroup)\n",
    "aqar.isnull().sum()/len(aqar) *100"
   ]
  },
  {
   "cell_type": "code",
   "execution_count": null,
   "id": "9ad70d57-1409-4758-a1b7-befcb04e3447",
   "metadata": {
    "tags": []
   },
   "outputs": [],
   "source": [
    "aqar['streetWidth'].fillna(0, inplace=True)\n",
    "aqar.isnull().sum()/len(aqar) *100"
   ]
  },
  {
   "cell_type": "markdown",
   "id": "031242bc-039d-4ba2-b062-15f3c9572369",
   "metadata": {},
   "source": [
    "# data visulization"
   ]
  },
  {
   "cell_type": "code",
   "execution_count": null,
   "id": "bb6656f0-578a-41fe-9b2d-fcf131a820bc",
   "metadata": {
    "tags": []
   },
   "outputs": [],
   "source": [
    "myData = aqar[(aqar['neighbourhood'] == 'Tuwik') | (aqar['neighbourhood'] == 'Ar Rimal') |\n",
    "              (aqar['neighbourhood'] == 'Okaz') | (aqar['neighbourhood'] == 'An Narjis') |\n",
    "              (aqar['neighbourhood'] == 'Bader') | (aqar['neighbourhood'] == 'Al Aarid') |\n",
    "              (aqar['neighbourhood'] == 'Almunsiyah') | (aqar['neighbourhood'] == 'Al Malqa') |\n",
    "              (aqar['neighbourhood'] == 'Al Mahdiyah') | (aqar['neighbourhood'] == 'Al Hazm')]\n",
    "myData"
   ]
  },
  {
   "cell_type": "code",
   "execution_count": null,
   "id": "ac677913-0c47-444e-bf18-4af413b6de36",
   "metadata": {
    "tags": []
   },
   "outputs": [],
   "source": [
    "hoodSpace= myData.groupby('neighbourhood')['space'].mean()\n",
    "hoodSpace = hoodSpace.sort_values(ascending=False)\n",
    "hoodSpaceX = hoodSpace.index\n",
    "hoodSpaceY = hoodSpace.values\n",
    "\n",
    "hoodSpaceplot = px.bar(x=hoodSpaceX, y= hoodSpaceY,\n",
    "                       color=hoodSpaceX,\n",
    "                       opacity=0.7,\n",
    "                       color_discrete_sequence= px.colors.sequential.Blugrn,\n",
    "                       labels=dict(x='Neighbourhood', y =\"Space Avg\"))\n",
    "hoodSpaceplot"
   ]
  },
  {
   "cell_type": "code",
   "execution_count": null,
   "id": "456c58a0-43b0-4200-90af-7d7c29a03e14",
   "metadata": {
    "tags": []
   },
   "outputs": [],
   "source": [
    "import geojson\n",
    "with open(\"Riyadh Saudi Arabia.geojson\") as f:\n",
    "    Riyadh = geojson.load(f)"
   ]
  },
  {
   "cell_type": "code",
   "execution_count": null,
   "id": "92625b10-3a48-4ed2-8beb-c60dc393797b",
   "metadata": {
    "tags": []
   },
   "outputs": [],
   "source": [
    "mymap = px.choropleth_mapbox(myData, geojson=Riyadh, color=myData['neighbourhood'], opacity =0.7,\n",
    "                           locations=myData['neighbourhood'], featureidkey=\"properties.NH\",\n",
    "                           center={\"lat\": 24.6983392, \"lon\": 46.6189186},\n",
    "                           color_discrete_sequence = px.colors.sequential.Blugrn,\n",
    "                           mapbox_style=\"carto-positron\", zoom=8.7)\n",
    "mymap.update_layout(margin={\"r\":0,\"t\":0,\"l\":0,\"b\":0})\n",
    "mymap.show()"
   ]
  },
  {
   "cell_type": "code",
   "execution_count": null,
   "id": "408ecf70-0302-4cb5-9d0e-517922b75451",
   "metadata": {
    "tags": []
   },
   "outputs": [],
   "source": [
    "str(myData.groupby('neighbourhood')['price'].max()[0]).replace('0000.0','k')"
   ]
  },
  {
   "cell_type": "code",
   "execution_count": null,
   "id": "f6f58e92-e7af-41cd-be28-649ffe160e86",
   "metadata": {
    "tags": []
   },
   "outputs": [],
   "source": [
    "neighbourhoodAndPrice = px.pie(myData, names='neighbourhood' , values='price', hole=.3, color_discrete_sequence= px.colors.sequential.Blugrn)\n",
    "neighbourhoodAndPrice.update_traces(textposition='inside', textinfo='percent+label')\n",
    "neighbourhoodAndPrice"
   ]
  },
  {
   "cell_type": "code",
   "execution_count": null,
   "id": "0bf4fd67-bc61-42f5-bcfb-1cf590f88719",
   "metadata": {},
   "outputs": [],
   "source": [
    "scatterSpace = px.scatter(myData, x='space' , y='price', color='neighbourhood', color_discrete_sequence= px.colors.sequential.Blugrn)\n",
    "scatterSpace"
   ]
  },
  {
   "cell_type": "code",
   "execution_count": null,
   "id": "9fdc7b5f-483f-4583-b699-74f03891b241",
   "metadata": {},
   "outputs": [],
   "source": [
    "neighbourhoodRooms = px.box(myData, x='neighbourhood', y='rooms', color= 'neighbourhood', color_discrete_sequence =px.colors.sequential.Blugrn)\n",
    "neighbourhoodRooms"
   ]
  },
  {
   "cell_type": "code",
   "execution_count": null,
   "id": "270b3a5a-303e-4002-90c5-472168308d3e",
   "metadata": {
    "tags": []
   },
   "outputs": [],
   "source": [
    "from wordcloud import WordCloud\n",
    "import matplotlib.pyplot as plt\n",
    "\n",
    "text = ''\n",
    "for i in myData['neighbourhood'].unique():\n",
    "    text = text + \" \"+i\n",
    "\n",
    "cloud = WordCloud(background_color='white').generate(text)\n",
    "cloud.to_file('words.png')"
   ]
  },
  {
   "cell_type": "code",
   "execution_count": null,
   "id": "d736e5b6-bd20-41fa-af71-3cc9d71a3b04",
   "metadata": {
    "tags": []
   },
   "outputs": [],
   "source": [
    "myData"
   ]
  },
  {
   "cell_type": "code",
   "execution_count": null,
   "id": "3ed070b8-fc64-464b-a388-10f6257602da",
   "metadata": {
    "tags": []
   },
   "outputs": [],
   "source": [
    "NH = 'Okaz'\n",
    "df = myData[myData['neighbourhood']== NH]\n",
    "indexs = df['Area Rank'].value_counts().index\n",
    "values = df['Area Rank'].value_counts().values\n",
    "\n",
    "areaRank = px.area(df, x=indexs ,  y= values,color =indexs, color_discrete_sequence = px.colors.sequential.Blugrn,)\n",
    "areaRank"
   ]
  },
  {
   "cell_type": "code",
   "execution_count": null,
   "id": "dfea708c-3a7c-4321-be46-8280d2ca1d59",
   "metadata": {},
   "outputs": [],
   "source": [
    "NH = 'Okaz'\n",
    "df = myData[myData['neighbourhood']== NH]\n",
    "indexs = df.groupby('Area Rank')['price'].mean().index\n",
    "values = df.groupby('Area Rank')['price'].mean().values\n",
    "\n",
    "bub = px.scatter(x=indexs, y=values,\n",
    "        size=values, color=indexs, size_max=60,color_discrete_sequence= px.colors.sequential.Blugrn)\n",
    "bub.show()"
   ]
  },
  {
   "cell_type": "code",
   "execution_count": null,
   "id": "43ec82fe-8006-4340-badf-884f7c3a25ee",
   "metadata": {
    "tags": []
   },
   "outputs": [],
   "source": [
    "NH = 'Okaz'\n",
    "df = myData[myData['neighbourhood']== NH]\n",
    "data = df['rooms'].value_counts()\n",
    "indexs = data.index\n",
    "values = data.values\n",
    "\n",
    "area = px.area(x=indexs, y= values,\n",
    "                       color=indexs,\n",
    "                       color_discrete_sequence = px.colors.sequential.Blugrn,\n",
    "                       labels=dict(x='Number of Rooms', y =\"Count\"))\n",
    "area"
   ]
  },
  {
   "cell_type": "code",
   "execution_count": null,
   "id": "662b44b5-f67f-4fb9-bead-e97a0bd24054",
   "metadata": {
    "tags": []
   },
   "outputs": [],
   "source": [
    "NH = 'Okaz'\n",
    "df = myData[myData['neighbourhood']== NH]\n",
    "\n",
    "histogram = px.histogram(df, x='Area Rank', y='streetWidth', color= 'Area Rank', color_discrete_sequence =px.colors.sequential.Blugrn)\n",
    "histogram"
   ]
  },
  {
   "cell_type": "code",
   "execution_count": null,
   "id": "4a8420a0-7ac2-4907-bfb9-ce4b284e01ad",
   "metadata": {
    "tags": []
   },
   "outputs": [],
   "source": [
    "NH = 'Okaz'\n",
    "df = myData[myData['neighbourhood']== NH]\n",
    "\n",
    "fig = px.sunburst(df, path=['Area Rank', 'lounges'], values='lounges', color= 'lounges', color_continuous_scale =px.colors.sequential.Blugrn )\n",
    "fig.show()"
   ]
  },
  {
   "cell_type": "markdown",
   "id": "2c29aa68-3565-46d0-8606-7d757d28150c",
   "metadata": {},
   "source": [
    "# Plotly Dash "
   ]
  },
  {
   "cell_type": "code",
   "execution_count": null,
   "id": "d61d97a2-c52a-44a2-9191-ffe2857ae12e",
   "metadata": {
    "tags": []
   },
   "outputs": [],
   "source": [
    "from dash import html\n",
    "from jupyter_dash import JupyterDash\n",
    "import dash\n",
    "from dash import Dash, dcc, html, Input, Output, callback\n",
    "import dash_bootstrap_components as dbc\n",
    "import base64\n",
    "import dash_html_components as html"
   ]
  },
  {
   "cell_type": "code",
   "execution_count": null,
   "id": "b8bdab76-654c-4681-b7dd-05090280ed4b",
   "metadata": {
    "tags": []
   },
   "outputs": [],
   "source": [
    "def encode_image(image_file):\n",
    "    test_base64 = base64.b64encode(open(image_file, 'rb').read()).decode('ascii')\n",
    "    return 'data:image/png;base64,{}'.format(test_base64)"
   ]
  },
  {
   "cell_type": "code",
   "execution_count": null,
   "id": "0984a6f2-76bc-4363-8572-d03d972dd8e4",
   "metadata": {
    "tags": []
   },
   "outputs": [],
   "source": [
    "def setLocation(NH):\n",
    "    \n",
    "    df = myData[myData['neighbourhood']== NH]\n",
    "    indexs = df['Area Rank'].value_counts().index\n",
    "    values = df['Area Rank'].value_counts().values\n",
    "    areaRank = px.area(df, x=indexs ,  y= values,color =indexs, \n",
    "                       labels=dict(x='Area Rank', y =\"Count\"),\n",
    "                       color_discrete_sequence = px.colors.sequential.Blugrn,)\n",
    "\n",
    "    indexs = df.groupby('Area Rank')['price'].mean().index\n",
    "    values = df.groupby('Area Rank')['price'].mean().values\n",
    "    bub = px.scatter(x=indexs, y=values,\n",
    "            size=values, color=indexs, size_max=60,\n",
    "                     labels=dict(x='Area Rank', y =\"Price\"),\n",
    "                     color_discrete_sequence= px.colors.sequential.Blugrn)\n",
    "\n",
    "\n",
    "    data = df['rooms'].value_counts()\n",
    "    indexs = data.index\n",
    "    values = data.values\n",
    "    area = px.area(x=indexs, y= values,\n",
    "                           color=indexs,\n",
    "                           color_discrete_sequence = px.colors.sequential.Blugrn,\n",
    "                           labels=dict(x='Number of Rooms', y =\"Count\"))\n",
    "\n",
    "    histogram = px.histogram(df, x='Area Rank', y='streetWidth', color= 'Area Rank',\n",
    "                             labels=dict(x='Number of Rooms', y =\"Count\"),\n",
    "                             color_discrete_sequence =px.colors.sequential.Blugrn)\n",
    "\n",
    "    fig = px.sunburst(df, path=['Area Rank', 'lounges'], values='lounges', color= 'lounges', \n",
    "                      color_continuous_scale =px.colors.sequential.Blugrn )\n",
    "    return areaRank, bub, area, histogram, fig"
   ]
  },
  {
   "cell_type": "code",
   "execution_count": null,
   "id": "f277db12-9de3-4c03-98bf-bb5eeb82596d",
   "metadata": {
    "tags": []
   },
   "outputs": [],
   "source": [
    "app = JupyterDash(\n",
    "    __name__,\n",
    "    external_stylesheets = [dbc.themes.LUX, dbc.themes.SPACELAB, dbc.icons.BOOTSTRAP]\n",
    ")\n",
    "app.layout = html.Div([\n",
    "    html.H1('Riyash villas Aqar Analysis',\n",
    "           style={\"text-align\": \"center\", 'width': '100%', 'padding': '20px 5px', 'display': 'inline-block', 'font-family': \"Times New Roman\"}),\n",
    "    dcc.Tabs(id=\"tabs-example-graph\", value='tab-1-example-graph', children=[\n",
    "        dcc.Tab(label='DataSet Dashboard', value='tab-1-example-graph'),\n",
    "        dcc.Tab(label='Neighbourhood Dashboard', value='tab-2-example-graph'),\n",
    "    ]),\n",
    "    html.Div(id='tabs-content-example-graph')\n",
    "])\n",
    "\n",
    "@callback(Output('tabs-content-example-graph', 'children'),\n",
    "              Input('tabs-example-graph', 'value'))\n",
    "def render_content(tab):\n",
    "    if tab == 'tab-1-example-graph':\n",
    "        return html.Div([\n",
    "            ####start of tab 1\n",
    "            \n",
    "            html.Div([\n",
    "                \n",
    "                ################################card group\n",
    "                dbc.Row([\n",
    "                    \n",
    "                    dbc.Col(dbc.Card([\n",
    "                                dbc.Row([\n",
    "\n",
    "                                        dbc.Col(\n",
    "                                            dbc.CardImg(\n",
    "                                                src= encode_image(\"imgs/HP.png\"),\n",
    "                                                className=\"img-fluid rounded-start\",\n",
    "                                            ), className=\"col-md-4\"), ##end of col 1\n",
    "\n",
    "                                        dbc.Col(\n",
    "                                            dbc.CardBody([\n",
    "                                                html.H4(str(myData.groupby('neighbourhood')['price'].max()[0]).replace('0000.0','k'), \n",
    "                                                        className=\"card-title\"),\n",
    "                                                html.P(\"Higest villa Price\", className=\"card-text\"),  \n",
    "                                            ]),className=\"col-md-8\"), ##end of col 2\n",
    "\n",
    "                                    ],className=\"g-0 d-flex align-items-center\"),##end of row\n",
    "\n",
    "                        ],className=\"text-center\", color=\"success\", outline=True, style={'height':'15vh'})\n",
    "                           , width=2),\n",
    "                    \n",
    "                    dbc.Col(dbc.Card([\n",
    "                                dbc.Row([\n",
    "\n",
    "                                        dbc.Col(\n",
    "                                            dbc.CardImg(\n",
    "                                                src= encode_image(\"imgs/LP.png\"),\n",
    "                                                className=\"img-fluid rounded-start\",\n",
    "                                            ), className=\"col-md-4\"), ##end of col 1\n",
    "\n",
    "                                        dbc.Col(\n",
    "                                            dbc.CardBody([\n",
    "                                                html.H4(str(myData.groupby('neighbourhood')['price'].min()[0]).replace('0000.0','k'), className=\"card-title\"),\n",
    "                                                html.P(\"Lowest villa Price\", className=\"card-text\"),  \n",
    "                                            ]),className=\"col-md-8\"), ##end of col 2\n",
    "\n",
    "                                    ],className=\"g-0 d-flex align-items-center\")##end of row\n",
    "\n",
    "                        ],className=\"text-center\", color=\"dark\", outline=True, style={'height':'15vh'})\n",
    "                           , width=2),\n",
    "                    \n",
    "                    dbc.Col(dbc.Card([\n",
    "                                dbc.Row([\n",
    "\n",
    "                                        dbc.Col(\n",
    "                                            dbc.CardImg(\n",
    "                                                src= encode_image(\"imgs/map.png\"),\n",
    "                                                className=\"img-fluid rounded-start\",\n",
    "                                            ), className=\"col-md-4\"), ##end of col 1\n",
    "\n",
    "                                        dbc.Col(\n",
    "                                            dbc.CardBody([\n",
    "                                                html.H4(len(myData['neighbourhood'].value_counts()), className=\"card-title\"),\n",
    "                                                html.P(\"Districts\", className=\"card-text\"),  \n",
    "                                            ]),className=\"col-md-8\"), ##end of col 2\n",
    "\n",
    "                                    ],className=\"g-0 d-flex align-items-center\"),##end of row\n",
    "\n",
    "                        ],className=\"text-center\", color=\"success\", outline=True, style={'height':'15vh'})\n",
    "                           , width=2),\n",
    "                    \n",
    "                    dbc.Col(dbc.Card([\n",
    "                                dbc.Row([\n",
    "\n",
    "                                        dbc.Col(\n",
    "                                            dbc.CardImg(\n",
    "                                                src= encode_image(\"imgs/home.png\"),\n",
    "                                                className=\"img-fluid rounded-start\",\n",
    "                                            ), className=\"col-md-4\"), ##end of col 1\n",
    "\n",
    "                                        dbc.Col(\n",
    "                                            dbc.CardBody([\n",
    "                                                html.H4(len(myData), className=\"card-title\"),\n",
    "                                                html.P(\"Villas\", className=\"card-text\"),  \n",
    "                                            ]),className=\"col-md-8\"), ##end of col 2\n",
    "\n",
    "                                    ],className=\"g-0 d-flex align-items-center\"),##end of row\n",
    "\n",
    "                        ],className=\"text-center\", color=\"dark\", outline=True, style={'height':'15vh'})##end of card\n",
    "                        , width=2),\n",
    "                    \n",
    "                    \n",
    "                    dbc.Col(dbc.Card([\n",
    "                                    dbc.CardImg(\n",
    "                                                src= encode_image(\"words.png\"),\n",
    "                                                className=\"img-fluid rounded-start\",\n",
    "                                            )\n",
    "                        ],className=\"text-center\", color=\"dark\", outline=True, style={'height':'15vh'})##end of card\n",
    "                        , width =2),\n",
    "                    \n",
    "                    \n",
    "                ],justify=\"center\", style={'padding': '20px'}),\n",
    "                ##################################################end of card group row\n",
    "                \n",
    "\n",
    "                \n",
    "                ################################################################################row 1\n",
    "                dbc.Row([\n",
    "                    \n",
    "                    dbc.Col(dbc.Card([\n",
    "                     dbc.CardBody([\n",
    "                             html.H3(\"Location of Neighbourhood\", className=\"text-primary\", style = {'text-align':'center' }),\n",
    "                             dcc.Graph(id='map', figure=mymap, style={\"width\": \"100%\", \"height\": \"100%\"})\n",
    "                         ]),\n",
    "                        ],style={'box-shadow': '2px 2px 2px lightgrey'})),\n",
    "                    \n",
    "                    dbc.Col(\n",
    "                        dbc.Card([\n",
    "                     dbc.CardBody([\n",
    "                             html.H3('Neighbourhoods Villas Prices', className=\"text-primary\", style = {'text-align':'center' }),\n",
    "                             dcc.Graph(id='G2', figure=neighbourhoodAndPrice, style={\"width\": \"100%\", \"height\": \"100%\"})\n",
    "                         ]),\n",
    "                        ],style={'box-shadow': '2px 2px 2px lightgrey'})),\n",
    "                    \n",
    "                ], style={'padding': '10px'}),######################################################################3#########end of row 1 \n",
    "                \n",
    "                ########################################################################################row2 \n",
    "                dbc.Row([\n",
    "                    \n",
    "                    dbc.Col(\n",
    "                        dbc.Card([\n",
    "                     dbc.CardBody([\n",
    "                             html.H3('Neighbourhoods Villas Area', className=\"text-primary\", style = {'text-align':'center' }),\n",
    "                             dcc.Graph(id='G1', figure=hoodSpaceplot, style={\"width\": \"100%\", \"height\": \"100%\"})\n",
    "                         ]),\n",
    "                        ],style={'box-shadow': '2px 2px 2px lightgrey'})),\n",
    "                    \n",
    "                    dbc.Col(\n",
    "                        dbc.Card([\n",
    "                     dbc.CardBody([\n",
    "                             html.H3('Villas Prices and Space Distribution', className=\"text-primary\", style = {'text-align':'center' }),\n",
    "                             dcc.Graph(id='G2', figure=scatterSpace, style={\"width\": \"100%\", \"height\": \"100%\"})\n",
    "                         ]),\n",
    "                 ],style={'box-shadow': '2px 2px 2px lightgrey'})),\n",
    "                \n",
    "               ],style={'padding': '10px'}),##########################################################################################end of row 2 \n",
    "                \n",
    "                dbc.Card([\n",
    "                     dbc.CardBody([\n",
    "                             html.H3('Neighbourhoods Rooms Distribution', className=\"text-primary\", style = {'text-align':'center' }),\n",
    "                             dcc.Graph(id='G1', figure=neighbourhoodRooms, style={\"width\": \"100%\", \"height\": \"100%\"})\n",
    "                         ]),\n",
    "                        ],style={'box-shadow': '2px 2px 2px lightgrey'}),\n",
    "                \n",
    "                       \n",
    "      ])####end of tab row     \n",
    "    ],style={'background-color': '#F2F2F2'})####end of tab 1\n",
    "    \n",
    "    \n",
    "    elif tab == 'tab-2-example-graph':\n",
    "        return html.Div([\n",
    "            \n",
    "            dbc.Row([\n",
    "                dbc.Card([\n",
    "                     dbc.CardBody([\n",
    "                             html.H3('Chose a Neighbourhood to Display its Dashboared', className=\"text-primary\", style = {'text-align':'center' }),\n",
    "                             dcc.Dropdown(['Tuwik','Ar Rimal', 'Okaz','An Narjis', 'Bader',\n",
    "                         'Al Aarid', 'Almunsiyah', 'Al Malqa', 'Al Mahdiyah', 'Al Hazm'], 'Tuwik', id='dropdown'),\n",
    "                         ]),\n",
    "                        ],style={'box-shadow': '2px 2px 2px lightgrey'})\n",
    "               ],style={'padding': '10px'}), \n",
    "            \n",
    "            dbc.Row([\n",
    "                    \n",
    "                    dbc.Col(\n",
    "                        dbc.Card([\n",
    "                     dbc.CardBody([\n",
    "                            html.H3('No. of lounges based on Area Rank', className=\"text-primary\", style = {'text-align':'center' }),\n",
    "                            dcc.Graph(id='lastchart', figure=fig, style={\"width\": \"100%\", \"height\": \"100%\"}),\n",
    "                         ]),\n",
    "                        ],style={'box-shadow': '2px 2px 2px lightgrey'})),\n",
    "                    \n",
    "                    dbc.Col(\n",
    "                        dbc.Card([\n",
    "                     dbc.CardBody([\n",
    "                            html.H3('The Neighbourhoods Area Rank', className=\"text-primary\", style = {'text-align':'center' }),\n",
    "                            dcc.Graph(id='AreaRank', figure=areaRank, style={\"width\": \"100%\", \"height\": \"100%\"}),\n",
    "                         ]),\n",
    "                 ],style={'box-shadow': '2px 2px 2px lightgrey'})),\n",
    "                \n",
    "               ],style={'padding': '10px'}),\n",
    "            \n",
    "                dbc.Row([\n",
    "                    \n",
    "                    dbc.Col(\n",
    "                        dbc.Card([\n",
    "                     dbc.CardBody([\n",
    "                            html.H3('Area Rank based on Price', className=\"text-primary\", style = {'text-align':'center' }),\n",
    "                            dcc.Graph(id='buble', figure=bub, style={\"width\": \"100%\", \"height\": \"100%\"}),\n",
    "                         ]),\n",
    "                        ],style={'box-shadow': '2px 2px 2px lightgrey'})),\n",
    "                    \n",
    "                    dbc.Col(\n",
    "                        dbc.Card([\n",
    "                     dbc.CardBody([\n",
    "                            html.H3('Street Width based on Area Rank', className=\"text-primary\", style = {'text-align':'center' }),\n",
    "                            dcc.Graph(id='histogramchart', figure=histogram, style={\"width\": \"100%\", \"height\": \"100%\"}),\n",
    "                         ]),\n",
    "                 ],style={'box-shadow': '2px 2px 2px lightgrey'})),\n",
    "                \n",
    "               ],style={'padding': '10px'}),##########################################################################################end of row 2 \n",
    "                \n",
    "                dbc.Card([\n",
    "                     dbc.CardBody([\n",
    "                            html.H3('Rooms count', className=\"text-primary\", style = {'text-align':'center' }),\n",
    "                            dcc.Graph(id='areachart', figure=area, style={\"width\": \"100%\", \"height\": \"100%\"}),\n",
    "                         ]),\n",
    "                        ],style={'box-shadow': '2px 2px 2px lightgrey'}),\n",
    "\n",
    "            \n",
    "        ],style={'background-color': '#F2F2F2'})####end of tab 2\n",
    "    \n",
    "@callback(\n",
    "    [Output('AreaRank', 'figure'),\n",
    "     Output('buble', 'figure'),\n",
    "     Output('areachart', 'figure'),\n",
    "     Output('histogramchart', 'figure'),\n",
    "     Output('lastchart', 'figure')],\n",
    "    Input('dropdown', 'value')\n",
    ")\n",
    "\n",
    "def update_graph(choice):\n",
    "    if choice == 'Tuwik':\n",
    "        areaRank, bub, area, histogram, fig = setLocation('Tuwik')\n",
    "    elif choice == 'Ar Rimal':\n",
    "        areaRank, bub, area, histogram, fig = setLocation('Ar Rimal')\n",
    "    elif choice == 'Okaz':\n",
    "        areaRank, bub, area, histogram, fig = setLocation('Okaz')\n",
    "    elif choice == 'An Narjis':\n",
    "        areaRank, bub, area, histogram, fig = setLocation('An Narjis')\n",
    "    elif choice == 'Bader':\n",
    "        areaRank, bub, area, histogram, fig = setLocation('Bader')\n",
    "    elif choice == 'Al Aarid':\n",
    "        areaRank, bub, area, histogram, fig = setLocation('Al Aarid')\n",
    "    elif choice == 'Al Malqa':\n",
    "        areaRank, bub, area, histogram, fig = setLocation('Al Malqa')\n",
    "    elif choice == 'Al Mahdiyah':\n",
    "        areaRank, bub, area, histogram, fig = setLocation('Al Mahdiyah')\n",
    "    elif choice == 'Al Hazm':\n",
    "         areaRank, bub, area, histogram, fig = setLocation('Al Hazm')\n",
    "            \n",
    "    return areaRank, bub, area, histogram, fig\n",
    "\n",
    "    \n",
    "if __name__ == '__main__':\n",
    "    app.run_server() "
   ]
  },
  {
   "cell_type": "code",
   "execution_count": null,
   "id": "26d504df",
   "metadata": {},
   "outputs": [],
   "source": []
  }
 ],
 "metadata": {
  "kernelspec": {
   "display_name": "Python 3 (ipykernel)",
   "language": "python",
   "name": "python3"
  },
  "language_info": {
   "codemirror_mode": {
    "name": "ipython",
    "version": 3
   },
   "file_extension": ".py",
   "mimetype": "text/x-python",
   "name": "python",
   "nbconvert_exporter": "python",
   "pygments_lexer": "ipython3",
   "version": "3.10.11"
  }
 },
 "nbformat": 4,
 "nbformat_minor": 5
}
